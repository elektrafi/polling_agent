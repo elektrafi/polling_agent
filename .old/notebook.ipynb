{
 "cells": [
  {
   "cell_type": "code",
   "execution_count": 9,
   "metadata": {},
   "outputs": [],
   "source": [
    "import bec_web_scrape as bec\n",
    "import baicells as bai\n",
    "from ue import UE\n",
    "import scanner\n",
    "import asyncio"
   ]
  },
  {
   "cell_type": "code",
   "execution_count": 10,
   "metadata": {},
   "outputs": [],
   "source": [
    "bec = bec.__loader__.load_module()\n",
    "bai = bai.__loader__.load_module()\n",
    "be = UE('10.11.10.2')\n",
    "ba = UE('10.251.253.174')\n"
   ]
  },
  {
   "cell_type": "code",
   "execution_count": 11,
   "metadata": {},
   "outputs": [
    {
     "name": "stdout",
     "output_type": "stream",
     "text": [
      "1\n",
      "2\n"
     ]
    },
    {
     "ename": "RuntimeError",
     "evalue": "This event loop is already running",
     "output_type": "error",
     "traceback": [
      "\u001b[0;31m---------------------------------------------------------------------------\u001b[0m",
      "\u001b[0;31mRuntimeError\u001b[0m                              Traceback (most recent call last)",
      "\u001b[1;32m/home/brenden/projects/efi-inventory-scan-py/notebook.ipynb Cell 3'\u001b[0m in \u001b[0;36m<cell line: 5>\u001b[0;34m()\u001b[0m\n\u001b[1;32m      <a href='vscode-notebook-cell:/home/brenden/projects/efi-inventory-scan-py/notebook.ipynb#ch0000002?line=2'>3</a>\u001b[0m tasks \u001b[39m=\u001b[39m s\u001b[39m.\u001b[39mupdate_baicells_settings_list([ba])\n\u001b[1;32m      <a href='vscode-notebook-cell:/home/brenden/projects/efi-inventory-scan-py/notebook.ipynb#ch0000002?line=3'>4</a>\u001b[0m \u001b[39mprint\u001b[39m(\u001b[39m2\u001b[39m)\n\u001b[0;32m----> <a href='vscode-notebook-cell:/home/brenden/projects/efi-inventory-scan-py/notebook.ipynb#ch0000002?line=4'>5</a>\u001b[0m asyncio\u001b[39m.\u001b[39;49mget_event_loop()\u001b[39m.\u001b[39;49mrun_until_complete(tasks)\n\u001b[1;32m      <a href='vscode-notebook-cell:/home/brenden/projects/efi-inventory-scan-py/notebook.ipynb#ch0000002?line=5'>6</a>\u001b[0m \u001b[39mprint\u001b[39m(\u001b[39m3\u001b[39m)\n",
      "File \u001b[0;32m~/.pyenv/versions/3.10.1/lib/python3.10/asyncio/base_events.py:617\u001b[0m, in \u001b[0;36mBaseEventLoop.run_until_complete\u001b[0;34m(self, future)\u001b[0m\n\u001b[1;32m    <a href='file:///home/brenden/.pyenv/versions/3.10.1/lib/python3.10/asyncio/base_events.py?line=605'>606</a>\u001b[0m \u001b[39m\"\"\"Run until the Future is done.\u001b[39;00m\n\u001b[1;32m    <a href='file:///home/brenden/.pyenv/versions/3.10.1/lib/python3.10/asyncio/base_events.py?line=606'>607</a>\u001b[0m \n\u001b[1;32m    <a href='file:///home/brenden/.pyenv/versions/3.10.1/lib/python3.10/asyncio/base_events.py?line=607'>608</a>\u001b[0m \u001b[39mIf the argument is a coroutine, it is wrapped in a Task.\u001b[39;00m\n\u001b[0;32m   (...)\u001b[0m\n\u001b[1;32m    <a href='file:///home/brenden/.pyenv/versions/3.10.1/lib/python3.10/asyncio/base_events.py?line=613'>614</a>\u001b[0m \u001b[39mReturn the Future's result, or raise its exception.\u001b[39;00m\n\u001b[1;32m    <a href='file:///home/brenden/.pyenv/versions/3.10.1/lib/python3.10/asyncio/base_events.py?line=614'>615</a>\u001b[0m \u001b[39m\"\"\"\u001b[39;00m\n\u001b[1;32m    <a href='file:///home/brenden/.pyenv/versions/3.10.1/lib/python3.10/asyncio/base_events.py?line=615'>616</a>\u001b[0m \u001b[39mself\u001b[39m\u001b[39m.\u001b[39m_check_closed()\n\u001b[0;32m--> <a href='file:///home/brenden/.pyenv/versions/3.10.1/lib/python3.10/asyncio/base_events.py?line=616'>617</a>\u001b[0m \u001b[39mself\u001b[39;49m\u001b[39m.\u001b[39;49m_check_running()\n\u001b[1;32m    <a href='file:///home/brenden/.pyenv/versions/3.10.1/lib/python3.10/asyncio/base_events.py?line=618'>619</a>\u001b[0m new_task \u001b[39m=\u001b[39m \u001b[39mnot\u001b[39;00m futures\u001b[39m.\u001b[39misfuture(future)\n\u001b[1;32m    <a href='file:///home/brenden/.pyenv/versions/3.10.1/lib/python3.10/asyncio/base_events.py?line=619'>620</a>\u001b[0m future \u001b[39m=\u001b[39m tasks\u001b[39m.\u001b[39mensure_future(future, loop\u001b[39m=\u001b[39m\u001b[39mself\u001b[39m)\n",
      "File \u001b[0;32m~/.pyenv/versions/3.10.1/lib/python3.10/asyncio/base_events.py:577\u001b[0m, in \u001b[0;36mBaseEventLoop._check_running\u001b[0;34m(self)\u001b[0m\n\u001b[1;32m    <a href='file:///home/brenden/.pyenv/versions/3.10.1/lib/python3.10/asyncio/base_events.py?line=574'>575</a>\u001b[0m \u001b[39mdef\u001b[39;00m \u001b[39m_check_running\u001b[39m(\u001b[39mself\u001b[39m):\n\u001b[1;32m    <a href='file:///home/brenden/.pyenv/versions/3.10.1/lib/python3.10/asyncio/base_events.py?line=575'>576</a>\u001b[0m     \u001b[39mif\u001b[39;00m \u001b[39mself\u001b[39m\u001b[39m.\u001b[39mis_running():\n\u001b[0;32m--> <a href='file:///home/brenden/.pyenv/versions/3.10.1/lib/python3.10/asyncio/base_events.py?line=576'>577</a>\u001b[0m         \u001b[39mraise\u001b[39;00m \u001b[39mRuntimeError\u001b[39;00m(\u001b[39m'\u001b[39m\u001b[39mThis event loop is already running\u001b[39m\u001b[39m'\u001b[39m)\n\u001b[1;32m    <a href='file:///home/brenden/.pyenv/versions/3.10.1/lib/python3.10/asyncio/base_events.py?line=577'>578</a>\u001b[0m     \u001b[39mif\u001b[39;00m events\u001b[39m.\u001b[39m_get_running_loop() \u001b[39mis\u001b[39;00m \u001b[39mnot\u001b[39;00m \u001b[39mNone\u001b[39;00m:\n\u001b[1;32m    <a href='file:///home/brenden/.pyenv/versions/3.10.1/lib/python3.10/asyncio/base_events.py?line=578'>579</a>\u001b[0m         \u001b[39mraise\u001b[39;00m \u001b[39mRuntimeError\u001b[39;00m(\n\u001b[1;32m    <a href='file:///home/brenden/.pyenv/versions/3.10.1/lib/python3.10/asyncio/base_events.py?line=579'>580</a>\u001b[0m             \u001b[39m'\u001b[39m\u001b[39mCannot run the event loop while another loop is running\u001b[39m\u001b[39m'\u001b[39m)\n",
      "\u001b[0;31mRuntimeError\u001b[0m: This event loop is already running"
     ]
    }
   ],
   "source": [
    "s=scanner.Scanner()\n",
    "print(1)\n",
    "asyncio.get_event_loop().run_until_complete( s.update_baicells_settings_list([ba]))\n",
    "print(2)"
   ]
  },
  {
   "cell_type": "code",
   "execution_count": 13,
   "metadata": {},
   "outputs": [
    {
     "data": {
      "text/plain": [
       "5"
      ]
     },
     "execution_count": 13,
     "metadata": {},
     "output_type": "execute_result"
    }
   ],
   "source": []
  }
 ],
 "metadata": {
  "interpreter": {
   "hash": "eb9837f980c4cdacc3de83bc70dbca65a38f398cdb7205bb0d946ee11edaf06c"
  },
  "kernelspec": {
   "display_name": "Python 3.10.1 64-bit ('inv-scan')",
   "language": "python",
   "name": "python3"
  },
  "language_info": {
   "codemirror_mode": {
    "name": "ipython",
    "version": 3
   },
   "file_extension": ".py",
   "mimetype": "text/x-python",
   "name": "python",
   "nbconvert_exporter": "python",
   "pygments_lexer": "ipython3",
   "version": "3.10.1"
  },
  "orig_nbformat": 4
 },
 "nbformat": 4,
 "nbformat_minor": 2
}
